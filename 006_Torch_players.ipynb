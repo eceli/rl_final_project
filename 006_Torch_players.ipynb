{
 "cells": [
  {
   "cell_type": "markdown",
   "id": "55e8dd61-a1b5-44ff-a7fd-215d3c6bdee2",
   "metadata": {},
   "source": [
    "# Crear un TorchPlayer\n"
   ]
  },
  {
   "cell_type": "markdown",
   "id": "9e8578ae-4e1f-482b-9113-c273bdc35f8c",
   "metadata": {},
   "source": [
    "Recibe el modelo a instanciar como path y juega con el mismo"
   ]
  },
  {
   "cell_type": "markdown",
   "id": "5d709faf-8879-4ddd-95f9-4a5ee0e5b74e",
   "metadata": {},
   "source": [
    "- Pensar como resolver el problema de que solo samplee las válidas\n",
    "- Agregarle la opción de monte carlo tree search (opcional) con las opciones de iterationLimit, timeLimit\n",
    "\n",
    "Si va a agregar MCTS mirar la notebook 007_MCTS.ipnb"
   ]
  },
  {
   "cell_type": "code",
   "execution_count": 97,
   "id": "bd09afbd",
   "metadata": {},
   "outputs": [],
   "source": [
    "from stable_baselines3 import PPO\n",
    "from players import DictPolicyPlayer, RandomPlayer, GreedyPlayer\n",
    "from boardgame2 import ReversiEnv\n",
    "import numpy as np\n",
    "from multi_env import make_reversi_vec_env, SelfPlayEnv"
   ]
  },
  {
   "cell_type": "code",
   "execution_count": 112,
   "id": "84f5c470-4dc9-4be9-8222-6c7df3b97e55",
   "metadata": {},
   "outputs": [],
   "source": [
    "class TorchPlayer():\n",
    "    #     \n",
    "    def __init__(self, model_path=None, player=1, board_shape=None, env=None, deterministic=True, only_valid=True, \n",
    "                 flatten_action=False, mcts=False, iterationLimit=None, timeLimit=None):\n",
    "        if (env is None) and (board_shape is None):\n",
    "            print(\"board_shape and env can't be both None\")\n",
    "        if env is None:\n",
    "            env = ReversiEnv(board_shape=board_shape)\n",
    "        self.env = env\n",
    "        self.model = model_path\n",
    "        self.player = player # player number. 1 o -1\n",
    "        if board_shape is None:\n",
    "            self.board_shape = self.env.board.shape[0]\n",
    "        else:\n",
    "            self.board_shape = board_shape        \n",
    "        self.flatten_action = flatten_action\n",
    "        self.deterministic = deterministic\n",
    "        self.only_valid = only_valid\n",
    "        \n",
    "    def predict(self, board):\n",
    "        board_player = [board*self.player]\n",
    "        action, _ = self.model.predict(board_player)\n",
    "        if self.flatten_action:\n",
    "            return action\n",
    "        else:\n",
    "            return [action // self.board_shape, action % self.board_shape]"
   ]
  },
  {
   "cell_type": "code",
   "execution_count": 103,
   "id": "6ef5693c",
   "metadata": {},
   "outputs": [
    {
     "name": "stdout",
     "output_type": "stream",
     "text": [
      "(8, 8)\n",
      "[[ 0  0  0  0  0  0  0  0]\n",
      " [ 0  0  0  0  0  0  0  0]\n",
      " [ 0  0  0  0  0  0  0  0]\n",
      " [ 0  0  0  1 -1  0  0  0]\n",
      " [ 0  0  0 -1  1  0  0  0]\n",
      " [ 0  0  0  0  0  0  0  0]\n",
      " [ 0  0  0  0  0  0  0  0]\n",
      " [ 0  0  0  0  0  0  0  0]]\n",
      "1\n"
     ]
    }
   ],
   "source": [
    "board_shape = 8\n",
    "env = ReversiEnv(board_shape=board_shape)\n",
    "(board, player) = env.reset()\n",
    "print(board.shape)\n",
    "print(board)\n",
    "print(player)"
   ]
  },
  {
   "cell_type": "code",
   "execution_count": 9,
   "id": "ed3fc504",
   "metadata": {},
   "outputs": [
    {
     "name": "stdout",
     "output_type": "stream",
     "text": [
      "[[[[ 0.  0.  0.  0.  0.  0.  0.  0.]\n",
      "   [ 0.  0.  0.  0.  0.  0.  0.  0.]\n",
      "   [ 0.  0.  0.  0.  0.  0.  0.  0.]\n",
      "   [ 0.  0.  0. -1.  1.  0.  0.  0.]\n",
      "   [ 0.  0. -1. -1. -1.  0.  0.  0.]\n",
      "   [ 0.  0.  0.  0.  0.  0.  0.  0.]\n",
      "   [ 0.  0.  0.  0.  0.  0.  0.  0.]\n",
      "   [ 0.  0.  0.  0.  0.  0.  0.  0.]]]]\n"
     ]
    }
   ],
   "source": [
    "board_shape = 8\n",
    "n_envs = 1\n",
    "env = make_reversi_vec_env(\n",
    "    SelfPlayEnv, n_envs=n_envs,\n",
    "    env_kwargs={\n",
    "        'board_shape': board_shape,\n",
    "        'LocalPlayer': RandomPlayer\n",
    "    }\n",
    ")\n",
    "obs = env.reset()\n",
    "print(obs)"
   ]
  },
  {
   "cell_type": "code",
   "execution_count": 113,
   "id": "e0384b29",
   "metadata": {},
   "outputs": [],
   "source": [
    "model_8_ma = PPO.load('models/Reversi_PPO_8by8_0.99_0.95_0.0_10_6_masked_actions/best_model.zip')\n",
    "ppo_model_ma = TorchPlayer(model_path = model_8_ma, board_shape = board_shape, deterministic = True)"
   ]
  },
  {
   "cell_type": "code",
   "execution_count": 114,
   "id": "66dea24e",
   "metadata": {},
   "outputs": [
    {
     "data": {
      "text/plain": [
       "[3, 5]"
      ]
     },
     "execution_count": 114,
     "metadata": {},
     "output_type": "execute_result"
    }
   ],
   "source": [
    "ppo_model_ma.predict(board)"
   ]
  },
  {
   "cell_type": "code",
   "execution_count": null,
   "id": "9f90e4fa",
   "metadata": {},
   "outputs": [],
   "source": []
  },
  {
   "cell_type": "code",
   "execution_count": null,
   "id": "dde0c853",
   "metadata": {},
   "outputs": [],
   "source": []
  },
  {
   "cell_type": "markdown",
   "id": "cfaf25a3-f5a2-4bdc-8086-f5507a7f8fd0",
   "metadata": {},
   "source": [
    "# Arena"
   ]
  },
  {
   "cell_type": "markdown",
   "id": "5acfcf1e-8c56-4448-91ef-45a6a3f5d3de",
   "metadata": {},
   "source": [
    "Testear el jugador contra los distintos jugadore"
   ]
  },
  {
   "cell_type": "code",
   "execution_count": 17,
   "id": "9cf645d6-1761-4bf4-9380-a1344e0b7f59",
   "metadata": {},
   "outputs": [],
   "source": [
    "gp = GreedyPlayer(player=1, board_shape=8)\n",
    "rp = RandomPlayer(player=1, board_shape=8)\n",
    "#op = DictPolicyPlayer(player=1, board_shape=8, flatten_action=True)"
   ]
  },
  {
   "cell_type": "code",
   "execution_count": 115,
   "id": "05003dc7",
   "metadata": {},
   "outputs": [],
   "source": [
    "model_8_ma = PPO.load('models/Reversi_PPO_8by8_0.99_0.95_0.0_10_6_masked_actions/best_model.zip')\n",
    "ppo_model_ma = TorchPlayer(model_path = model_8_ma, board_shape = board_shape, deterministic = True)"
   ]
  },
  {
   "cell_type": "code",
   "execution_count": 131,
   "id": "4117f4b4",
   "metadata": {},
   "outputs": [
    {
     "data": {
      "text/plain": [
       "[5, 3]"
      ]
     },
     "execution_count": 131,
     "metadata": {},
     "output_type": "execute_result"
    }
   ],
   "source": [
    "ppo_model_ma.predict(board)"
   ]
  },
  {
   "cell_type": "code",
   "execution_count": 116,
   "id": "ea5f8519",
   "metadata": {},
   "outputs": [],
   "source": [
    "model_8_ma_distrib = PPO.load('models/Reversi_PPO_8by8_0.99_0.95_0.0_10_6_masked_actions_distrib/best_model.zip')\n",
    "ppo_model_ma_distrib = TorchPlayer(model_path = model_8_ma_distrib, board_shape = board_shape, deterministic = True)"
   ]
  },
  {
   "cell_type": "code",
   "execution_count": 136,
   "id": "8b4cc9bd",
   "metadata": {},
   "outputs": [
    {
     "data": {
      "text/plain": [
       "[2, 4]"
      ]
     },
     "execution_count": 136,
     "metadata": {},
     "output_type": "execute_result"
    }
   ],
   "source": [
    "ppo_model_ma_distrib.predict(board)"
   ]
  },
  {
   "cell_type": "code",
   "execution_count": 78,
   "id": "7feb1bb9",
   "metadata": {},
   "outputs": [],
   "source": [
    "def arena_stats(player_1, player_2, board_shape, N=500):\n",
    "    \n",
    "    env = ReversiEnv(board_shape=board_shape)\n",
    "    wins_as_first = 0\n",
    "    wins_as_second = 0\n",
    "    plays_as_first = 0\n",
    "    plays_as_second = 0\n",
    "    total_steps = 0\n",
    "    for i in range(N):\n",
    "        # Aveces empieza un jugador, a veces el otro\n",
    "        first_player = np.random.choice([-1, 1])\n",
    "        player_1.player = first_player\n",
    "        player_2.player = -first_player\n",
    "        \n",
    "        plays_as_first = plays_as_first + (first_player == 1)\n",
    "        plays_as_second = plays_as_second + (first_player == -1)\n",
    "        \n",
    "        done = False\n",
    "        n_steps = 0\n",
    "        (board, player) = env.reset()\n",
    "        \n",
    "        while not done:\n",
    "            if first_player == player:\n",
    "                action = player_1.predict(board)# Juega el jugador 1\n",
    "            else:\n",
    "                action = player_2.predict(board)# Juega el jugador 2\n",
    "            (board, player), reward, done, info = env.step(action)\n",
    "            n_steps = n_steps + 1\n",
    "        total_steps = total_steps + n_steps\n",
    "        wins_as_first = wins_as_first + (reward == first_player) * (first_player == 1)\n",
    "        wins_as_second = wins_as_second + (reward == first_player) * (first_player == -1)\n",
    "    print(f'Wins as first: {wins_as_first/plays_as_first}')\n",
    "    print(f'Wins as second: {wins_as_second/plays_as_second}')\n",
    "    print(f'Plays as first: {plays_as_first}')\n",
    "    print(f'Plays as second: {plays_as_second}')\n",
    "    print(f'Avg game duration: {total_steps/N}')"
   ]
  },
  {
   "cell_type": "markdown",
   "id": "df5cc05e",
   "metadata": {},
   "source": [
    "## Random contra Greedy"
   ]
  },
  {
   "cell_type": "code",
   "execution_count": 92,
   "id": "1610cf05",
   "metadata": {},
   "outputs": [
    {
     "name": "stdout",
     "output_type": "stream",
     "text": [
      "Wins as first: 0.36809815950920244\n",
      "Wins as second: 0.3816046966731898\n",
      "Plays as first: 489\n",
      "Plays as second: 511\n",
      "Avg game duration: 57.697\n"
     ]
    }
   ],
   "source": [
    "arena_stats(rp, gp, 8, N=1000)"
   ]
  },
  {
   "cell_type": "markdown",
   "id": "09bf2edf",
   "metadata": {},
   "source": [
    "## Modelo Base contra Greedy y Random"
   ]
  },
  {
   "cell_type": "code",
   "execution_count": 93,
   "id": "991d7691",
   "metadata": {},
   "outputs": [
    {
     "name": "stdout",
     "output_type": "stream",
     "text": [
      "Wins as first: 0.6168582375478927\n",
      "Wins as second: 0.6234309623430963\n",
      "Plays as first: 522\n",
      "Plays as second: 478\n",
      "Avg game duration: 59.176\n"
     ]
    }
   ],
   "source": [
    "arena_stats(ppo_model_ma, gp,8, N=1000)"
   ]
  },
  {
   "cell_type": "code",
   "execution_count": 94,
   "id": "261c4251",
   "metadata": {},
   "outputs": [
    {
     "name": "stdout",
     "output_type": "stream",
     "text": [
      "Wins as first: 0.6742738589211619\n",
      "Wins as second: 0.7316602316602316\n",
      "Plays as first: 482\n",
      "Plays as second: 518\n",
      "Avg game duration: 59.987\n"
     ]
    }
   ],
   "source": [
    "arena_stats(ppo_model_ma, rp, 8, N=1000)"
   ]
  },
  {
   "cell_type": "markdown",
   "id": "fed0fd44",
   "metadata": {},
   "source": [
    "## Modelo con modificación del Forward contra Greedy y Random"
   ]
  },
  {
   "cell_type": "code",
   "execution_count": 101,
   "id": "61cacb63",
   "metadata": {},
   "outputs": [
    {
     "name": "stdout",
     "output_type": "stream",
     "text": [
      "Wins as first: 0.7723735408560312\n",
      "Wins as second: 0.7551440329218106\n",
      "Plays as first: 514\n",
      "Plays as second: 486\n",
      "Avg game duration: 59.473\n"
     ]
    }
   ],
   "source": [
    "arena_stats(ppo_model_ma_distrib, gp, 8, N=1000)"
   ]
  },
  {
   "cell_type": "code",
   "execution_count": 137,
   "id": "be8a5919",
   "metadata": {},
   "outputs": [
    {
     "name": "stdout",
     "output_type": "stream",
     "text": [
      "Wins as first: 0.9081196581196581\n",
      "Wins as second: 0.8890977443609023\n",
      "Plays as first: 468\n",
      "Plays as second: 532\n",
      "Avg game duration: 59.991\n"
     ]
    }
   ],
   "source": [
    "arena_stats(ppo_model_ma_distrib, rp, 8, N=1000)"
   ]
  },
  {
   "cell_type": "markdown",
   "id": "a952d031",
   "metadata": {},
   "source": [
    "## Modelo Base contra modificado"
   ]
  },
  {
   "cell_type": "code",
   "execution_count": 138,
   "id": "8725c9fe",
   "metadata": {},
   "outputs": [
    {
     "name": "stdout",
     "output_type": "stream",
     "text": [
      "Wins as first: 0.14919354838709678\n",
      "Wins as second: 0.1865079365079365\n",
      "Plays as first: 496\n",
      "Plays as second: 504\n",
      "Avg game duration: 59.991\n"
     ]
    }
   ],
   "source": [
    "arena_stats(ppo_model_ma, ppo_model_ma_distrib, 8, N=1000)"
   ]
  },
  {
   "cell_type": "code",
   "execution_count": 141,
   "id": "b22220e8",
   "metadata": {},
   "outputs": [
    {
     "name": "stdout",
     "output_type": "stream",
     "text": [
      "Wins as first: 0.7933070866141733\n",
      "Wins as second: 0.8048780487804879\n",
      "Plays as first: 508\n",
      "Plays as second: 492\n",
      "Avg game duration: 59.988\n"
     ]
    }
   ],
   "source": [
    "arena_stats(ppo_model_ma_distrib, ppo_model_ma, 8, N=1000)"
   ]
  },
  {
   "cell_type": "markdown",
   "id": "e600ebae",
   "metadata": {},
   "source": [
    "Se observa que el modelo modificado es mucho mejor que el modelo base"
   ]
  },
  {
   "cell_type": "markdown",
   "id": "28376022",
   "metadata": {},
   "source": [
    "### Se prueba el mejor modelo, una version con Deterministic en True y otra en False"
   ]
  },
  {
   "cell_type": "code",
   "execution_count": 139,
   "id": "f9454533",
   "metadata": {},
   "outputs": [],
   "source": [
    "model_8_ma_distrib_detFalse = PPO.load('models/Reversi_PPO_8by8_0.99_0.95_0.0_10_6_masked_actions_distrib/best_model.zip')\n",
    "ppo_model_ma_distrib_detFalse = TorchPlayer(model_path = model_8_ma_distrib_detFalse, board_shape = board_shape, deterministic = False)"
   ]
  },
  {
   "cell_type": "code",
   "execution_count": 140,
   "id": "324dbd72",
   "metadata": {},
   "outputs": [
    {
     "name": "stdout",
     "output_type": "stream",
     "text": [
      "Wins as first: 0.5159362549800797\n",
      "Wins as second: 0.46987951807228917\n",
      "Plays as first: 502\n",
      "Plays as second: 498\n",
      "Avg game duration: 59.992\n"
     ]
    }
   ],
   "source": [
    "arena_stats(ppo_model_ma_distrib, ppo_model_ma_distrib_detFalse, 8, N=1000)"
   ]
  },
  {
   "cell_type": "markdown",
   "id": "f6d67387",
   "metadata": {},
   "source": [
    "No se observa una diferencia sustancial entre utilizar el parámetro Deterministic en True o False"
   ]
  },
  {
   "cell_type": "code",
   "execution_count": null,
   "id": "9ade14e9",
   "metadata": {},
   "outputs": [],
   "source": []
  }
 ],
 "metadata": {
  "kernelspec": {
   "display_name": "Python 3 (ipykernel)",
   "language": "python",
   "name": "python3"
  },
  "language_info": {
   "codemirror_mode": {
    "name": "ipython",
    "version": 3
   },
   "file_extension": ".py",
   "mimetype": "text/x-python",
   "name": "python",
   "nbconvert_exporter": "python",
   "pygments_lexer": "ipython3",
   "version": "3.8.12"
  }
 },
 "nbformat": 4,
 "nbformat_minor": 5
}
